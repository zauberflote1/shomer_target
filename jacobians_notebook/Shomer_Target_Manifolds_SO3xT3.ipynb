{
  "nbformat": 4,
  "nbformat_minor": 0,
  "metadata": {
    "colab": {
      "provenance": []
    },
    "kernelspec": {
      "name": "python3",
      "display_name": "Python 3"
    },
    "language_info": {
      "name": "python"
    }
  },
  "cells": [
    {
      "cell_type": "code",
      "execution_count": null,
      "metadata": {
        "colab": {
          "base_uri": "https://localhost:8080/"
        },
        "id": "tgiZ2V5B5j1g",
        "outputId": "32a25d7f-85e9-4187-9c31-606817dd53ac"
      },
      "outputs": [
        {
          "output_type": "stream",
          "name": "stdout",
          "text": [
            "Requirement already satisfied: symforce in /usr/local/lib/python3.10/dist-packages (0.9.0)\n",
            "Requirement already satisfied: black in /usr/local/lib/python3.10/dist-packages (from symforce) (24.8.0)\n",
            "Requirement already satisfied: clang-format in /usr/local/lib/python3.10/dist-packages (from symforce) (18.1.8)\n",
            "Requirement already satisfied: graphviz in /usr/local/lib/python3.10/dist-packages (from symforce) (0.20.3)\n",
            "Requirement already satisfied: jinja2 in /usr/local/lib/python3.10/dist-packages (from symforce) (3.1.4)\n",
            "Requirement already satisfied: numpy in /usr/local/lib/python3.10/dist-packages (from symforce) (1.26.4)\n",
            "Requirement already satisfied: scipy in /usr/local/lib/python3.10/dist-packages (from symforce) (1.13.1)\n",
            "Requirement already satisfied: skymarshal==0.9.0 in /usr/local/lib/python3.10/dist-packages (from symforce) (0.9.0)\n",
            "Requirement already satisfied: sympy~=1.11.1 in /usr/local/lib/python3.10/dist-packages (from symforce) (1.11.1)\n",
            "Requirement already satisfied: symforce-sym==0.9.0 in /usr/local/lib/python3.10/dist-packages (from symforce) (0.9.0)\n",
            "Requirement already satisfied: argh in /usr/local/lib/python3.10/dist-packages (from skymarshal==0.9.0->symforce) (0.31.3)\n",
            "Requirement already satisfied: ply in /usr/local/lib/python3.10/dist-packages (from skymarshal==0.9.0->symforce) (3.11)\n",
            "Requirement already satisfied: six in /usr/local/lib/python3.10/dist-packages (from skymarshal==0.9.0->symforce) (1.16.0)\n",
            "Requirement already satisfied: mpmath>=0.19 in /usr/local/lib/python3.10/dist-packages (from sympy~=1.11.1->symforce) (1.3.0)\n",
            "Requirement already satisfied: click>=8.0.0 in /usr/local/lib/python3.10/dist-packages (from black->symforce) (8.1.7)\n",
            "Requirement already satisfied: mypy-extensions>=0.4.3 in /usr/local/lib/python3.10/dist-packages (from black->symforce) (1.0.0)\n",
            "Requirement already satisfied: packaging>=22.0 in /usr/local/lib/python3.10/dist-packages (from black->symforce) (24.1)\n",
            "Requirement already satisfied: pathspec>=0.9.0 in /usr/local/lib/python3.10/dist-packages (from black->symforce) (0.12.1)\n",
            "Requirement already satisfied: platformdirs>=2 in /usr/local/lib/python3.10/dist-packages (from black->symforce) (4.2.2)\n",
            "Requirement already satisfied: tomli>=1.1.0 in /usr/local/lib/python3.10/dist-packages (from black->symforce) (2.0.1)\n",
            "Requirement already satisfied: typing-extensions>=4.0.1 in /usr/local/lib/python3.10/dist-packages (from black->symforce) (4.12.2)\n",
            "Requirement already satisfied: MarkupSafe>=2.0 in /usr/local/lib/python3.10/dist-packages (from jinja2->symforce) (2.1.5)\n"
          ]
        }
      ],
      "source": [
        "pip install symforce"
      ]
    },
    {
      "cell_type": "markdown",
      "source": [
        "#CODE GENERATION FOR SHOMER TARGET JACOBIANS USING SO(3) X T(3)"
      ],
      "metadata": {
        "id": "Bq2WL6kUl2RG"
      }
    },
    {
      "cell_type": "code",
      "source": [
        "import symforce\n",
        "import symforce.symbolic as sf\n",
        "from symforce import codegen\n",
        "import math\n",
        "\n",
        "# Symbolic vector and scalar definitions\n",
        "camera_T = sf.Vector3.symbolic(\"camera_T\")\n",
        "camera_R = sf.Vector3.symbolic(\"camera_R\")\n",
        "known_point_G = sf.Vector3.symbolic(\"known_point_G\")\n",
        "\n",
        "f_x = sf.Symbol('f_x')\n",
        "f_y = sf.Symbol('f_y')\n",
        "c_y = sf.Symbol('c_y')\n",
        "c_x = sf.Symbol('c_x')\n",
        "\n",
        "\n",
        "def jacobian_matrix(\n",
        "    camera_T: sf.Vector3,\n",
        "    camera_R: sf.Vector3,\n",
        "    known_point_G: sf.Vector3,\n",
        "    f_x: sf.Scalar,\n",
        "    f_y: sf.Scalar,\n",
        "    c_x: sf.Scalar,\n",
        "    c_y: sf.Scalar\n",
        ") -> sf.Matrix:\n",
        "\n",
        "#RODRIGUES ROTATION\n",
        "    theta = camera_R.norm()\n",
        "\n",
        "    axis = camera_R / theta\n",
        "    costheta = sf.cos(theta)\n",
        "    sintheta = sf.sin(theta)\n",
        "\n",
        "    #HAT OPERATOR R^3 -> so(3)\n",
        "    K = sf.Matrix([\n",
        "        [0, -axis[2], axis[1]],\n",
        "        [axis[2], 0, -axis[0]],\n",
        "        [-axis[1], axis[0], 0]\n",
        "    ])\n",
        "    #so(3)->SO(3)\n",
        "    R = sf.Matrix.eye(3) + sintheta * K + (1 - costheta) * (K * K)\n",
        "\n",
        "#ROTATE KNOWN GLOBAL POINT\n",
        "    rotated_point = R * known_point_G\n",
        "    rotated_point += camera_T\n",
        "\n",
        "#PINHOLE PROJECT\n",
        "    xp = (rotated_point[0] / rotated_point[2]) * f_x + c_x\n",
        "    yp = (rotated_point[1] / rotated_point[2]) * f_y + c_y\n",
        "\n",
        "#PARTIALS WRT. CAMERA T\n",
        "    dxp_dT = sf.Vector3(\n",
        "        sf.diff(xp, camera_T[0]),\n",
        "        sf.diff(xp, camera_T[1]),\n",
        "        sf.diff(xp, camera_T[2])\n",
        "    )\n",
        "    dyp_dT = sf.Vector3(\n",
        "        sf.diff(yp, camera_T[0]),\n",
        "        sf.diff(yp, camera_T[1]),\n",
        "        sf.diff(yp, camera_T[2])\n",
        "    )\n",
        "\n",
        "#PARTIALS WRT. CAMERA R\n",
        "    dxp_dR = sf.Vector3(\n",
        "        sf.diff(xp, camera_R[0]),\n",
        "        sf.diff(xp, camera_R[1]),\n",
        "        sf.diff(xp, camera_R[2])\n",
        "    )\n",
        "    dyp_dR = sf.Vector3(\n",
        "        sf.diff(yp, camera_R[0]),\n",
        "        sf.diff(yp, camera_R[1]),\n",
        "        sf.diff(yp, camera_R[2])\n",
        "    )\n",
        "\n",
        "#2X6\n",
        "    jacobian_2x6 = sf.Matrix([\n",
        "        [dxp_dT[0], dxp_dT[1], dxp_dT[2], dxp_dR[0], dxp_dR[1], dxp_dR[2]],\n",
        "        [dyp_dT[0], dyp_dT[1], dyp_dT[2], dyp_dR[0], dyp_dR[1], dyp_dR[2]]\n",
        "    ])\n",
        "\n",
        "    return jacobian_2x6\n",
        "\n",
        "\n",
        "#CODE GEN\n",
        "jacobian_codegen = codegen.Codegen.function(\n",
        "    func=jacobian_matrix,\n",
        "    config=codegen.CppConfig(),\n",
        ")\n",
        "\n",
        "#SAVE IT!\n",
        "jacobian_codegen_data = jacobian_codegen.generate_function()\n",
        "\n",
        "print(\"Files generated in {}:\\n\".format(jacobian_codegen_data.output_dir))\n",
        "for f in jacobian_codegen_data.generated_files:\n",
        "    print(\"  |- {}\".format(f.relative_to(jacobian_codegen_data.output_dir)))\n",
        "\n"
      ],
      "metadata": {
        "colab": {
          "base_uri": "https://localhost:8080/"
        },
        "id": "643M067EVGaa",
        "outputId": "fa9d0e89-a32d-4ec9-ba58-d0d24f088e19"
      },
      "execution_count": null,
      "outputs": [
        {
          "output_type": "stream",
          "name": "stderr",
          "text": [
            "WARNING:symforce:\n",
            "    Generating code with epsilon set to 0 - This is dangerous!  You may get NaNs, Infs,\n",
            "    or numerically unstable results from calling generated functions near singularities.\n",
            "\n",
            "    In order to safely generate code, you should set epsilon to either a symbol\n",
            "    (recommended) or a small numerical value like `sf.numeric_epsilon`.  You should do\n",
            "    this before importing any other code from symforce, e.g. with\n",
            "\n",
            "        import symforce\n",
            "        symforce.set_epsilon_to_symbol()\n",
            "\n",
            "    or\n",
            "\n",
            "        import symforce\n",
            "        symforce.set_epsilon_to_number()\n",
            "\n",
            "    For more information on use of epsilon to prevent singularities, take a look at the\n",
            "    Epsilon Tutorial: https://symforce.org/tutorials/epsilon_tutorial.html\n",
            "\n"
          ]
        },
        {
          "output_type": "stream",
          "name": "stdout",
          "text": [
            "Files generated in /tmp/sf_codegen_jacobian_matrix_b9ksl86x:\n",
            "\n",
            "  |- cpp/symforce/sym/jacobian_matrix.h\n"
          ]
        }
      ]
    },
    {
      "cell_type": "code",
      "source": [],
      "metadata": {
        "id": "BR3j93j68SxT"
      },
      "execution_count": null,
      "outputs": []
    }
  ]
}